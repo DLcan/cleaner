{
 "cells": [
  {
   "cell_type": "markdown",
   "metadata": {
    "collapsed": false
   },
   "source": [
    "###-----------------------"
   ]
  },
  {
   "cell_type": "code",
   "execution_count": 575,
   "metadata": {
    "collapsed": true
   },
   "outputs": [],
   "source": [
    "import numpy as np\n",
    "import random\n",
    "import turtle\n",
    "import time\n",
    "import serial\n",
    "from turtle import *\n",
    "from operator import itemgetter\n",
    "import struct\n",
    "import csv\n",
    "\n",
    "vn = turtle.Screen()\n",
    "#vn.clear()\n",
    "robo = turtle.Turtle()\n",
    "robo.hideturtle()\n",
    "robo.penup()\n",
    "\n",
    "engel = turtle.Turtle()\n",
    "yol = [] #gittiği yolun kaydı\n",
    "#initialize\n",
    "bitti = False    # True olunca sonlanıyor\n",
    "\n",
    "#Seçenekler  ************************************\n",
    "tekrarla = False # True olunca aynı değerlerle kinci turu yapacak :puanları silmeyecek \n",
    "rastgele = True  # engelkoyme biçimi False olursa dosyadan (engeller.csv) okuyor\n",
    "düzgit = True\n",
    "\n",
    "#sabitler\n",
    "\n",
    "blok = 1         # \n",
    "numpad = 10      # 9 hücreden oluşuyor, hücrelerin adları numpadle aynı,[0]kullanılmıyor\n",
    "boy = 30         # robotun boyu ve eni 30cm olarak düşünülebilir\n",
    "maxziyaret = 5  # aynı hücreye 5 kere giderse sonlanıyor\n",
    "\n",
    "#odanın boyutlarına göre ekran oluşturuyor\n",
    "yatay = 3       # yanyana olan numpad sayısı herbiri 90 cm olabilir ( 3 demek 270 cm)\n",
    "dikey = 2  # dikey olarak numpad sayısı  yatay x dikey   (2 demek 180 cm)\n",
    "\n",
    "#Açılan pencerenin boyutlarını belirliyor\n",
    "bigkoor = (3*boy) + 1\n",
    "\n",
    "\n",
    "#sıfır,sıfır sol üst köşede\n",
    "#0,0 left upper corner\n",
    "mode('world')\n",
    "setworldcoordinates(0,bigkoor,bigkoor,0) #Açılan pencerenin boyutlarını belirliyor\n",
    "koor = 30\n",
    "\n",
    "#######\n",
    "\n",
    "#durum  -1 kullanılmıyor\n",
    "#        0: gidilmedi\n",
    "#        1: gidildifor j in range(yatay):\n",
    "#        2: engelli (gidilemez)\n",
    "ndurum = np.zeros((numpad),dtype='int')\n",
    "#her hücrenin kendi adıyla girilebilmesi için [0] kullanım dışı (-1)\n",
    "ndurum[0] = -1\n",
    "\n",
    "#hücrelerin puanları\n",
    "#engelliyse 0 \n",
    "#her hücrenin başlangıç puanı 10\n",
    "npuan = 100*np.ones((numpad),dtype='int')\n",
    "#her hücrenin kendi adıyla girilebilmesi için [0] kullanım dışı (-1)\n",
    "npuan[0] = -1\n",
    "\n",
    "#her gidişte artan\n",
    "nziyaret = np.zeros((numpad),dtype='int')\n",
    "\n",
    "durum = np.zeros((yatay,dikey,numpad),dtype='int') \n",
    "puan = np.zeros((yatay,dikey,numpad),dtype='int') \n",
    "ziyaret = np.zeros((yatay,dikey,numpad),dtype='int') \n",
    "\n",
    "\n",
    "for x in range(yatay):\n",
    "    for y in range(dikey):\n",
    "        durum[x,y] = ndurum\n",
    "        puan[x,y] = npuan \n",
    "        ziyaret[x,y] = nziyaret  "
   ]
  },
  {
   "cell_type": "code",
   "execution_count": 576,
   "metadata": {
    "collapsed": false
   },
   "outputs": [],
   "source": [
    "\n",
    "currentyön = 0\n",
    "#hücrem = 0    #current cell\n",
    "adımsayısı = 0\n",
    "engelli = 0  #engel sayısı (bitti kontrolünü de etkiliyor)"
   ]
  },
  {
   "cell_type": "code",
   "execution_count": 577,
   "metadata": {
    "collapsed": false
   },
   "outputs": [
    {
     "name": "stdout",
     "output_type": "stream",
     "text": [
      "[Errno 2] could not open port /dev/ttyUSB0: [Errno 2] No such file or directory: '/dev/ttyUSB0'\n"
     ]
    }
   ],
   "source": [
    "port,speed = ('/dev/ttyUSB0', '9600')\n",
    "try:\n",
    "    arduino = serial.Serial(port,speed,timeout=.2)\n",
    "    time.sleep(2)\n",
    "    print(\"Connection to \" + port + \" established succesfully!\\n\")\n",
    "    arduino.write(\"Hello from Python!\")\n",
    "    sensor = 0\n",
    "    connected = True\n",
    "except Exception as e:\n",
    "    print(e)\n",
    "    connected = False"
   ]
  },
  {
   "cell_type": "code",
   "execution_count": 578,
   "metadata": {
    "collapsed": false
   },
   "outputs": [],
   "source": [
    "#Arduino sensoründen data okuma\n",
    "#sorunlu!\n",
    "def sensorOku():\n",
    "    global sensor\n",
    "    if connected:\n",
    "        if not arduino.is_open:\n",
    "            arduino.open()\n",
    "            time.sleep(1)\n",
    "        #for say in range(3):\n",
    "        gelendata = arduino.read(size=1)\n",
    "        time.sleep(1)\n",
    "        if gelendata:\n",
    "            sensor = (gelendata)\n",
    "            time.sleep(1)\n",
    "            arduino.close()\n",
    "            return True\n",
    "        else:\n",
    "            #print(\"sensore ulaşılamadı\")\n",
    "            return False"
   ]
  },
  {
   "cell_type": "code",
   "execution_count": 579,
   "metadata": {
    "collapsed": true
   },
   "outputs": [],
   "source": [
    "#Arduino'ya data yolla\n",
    "def datayolla(data):\n",
    "    if connected:\n",
    "        if not arduino.is_open:\n",
    "            arduino.open()\n",
    "            time.sleep(1)\n",
    "            arduino.write(struct.pack('>B', data))\n",
    "            time.sleep(1)\n"
   ]
  },
  {
   "cell_type": "raw",
   "metadata": {},
   "source": [
    "#sorunlu\n",
    "while not sensorOku():\n",
    "    sensor\n",
    "    \n",
    "sensor"
   ]
  },
  {
   "cell_type": "raw",
   "metadata": {
    "collapsed": false
   },
   "source": [
    " arduino.is_open"
   ]
  },
  {
   "cell_type": "code",
   "execution_count": 580,
   "metadata": {
    "collapsed": false
   },
   "outputs": [],
   "source": [
    "# değişken haline getirilecek\n",
    "#cell numpad kurallarıyla\n",
    "def cell(X,Y,number):\n",
    "    return {\n",
    "        1: (5+(koor*X),25 + (koor*Y)),\n",
    "        2: (15+(koor*X),25 + (koor*Y)),\n",
    "        3: (25+(koor*X),25 + (koor*Y)),\n",
    "        4: (5+(koor*X),15 + (koor*Y)),\n",
    "        5: (15+(koor*X),15 + (koor*Y)),\n",
    "        6: (25+(koor*X),15 + (koor*Y)),\n",
    "        7: (5+(koor*X),5 + (koor*Y)),\n",
    "        8: (15+(koor*X),5 + (koor*Y)),\n",
    "        9: (25+(koor*X),5 + (koor*Y))\n",
    "    } [number]\n",
    "\n",
    "    \n",
    "\n",
    "\n",
    "#durduğu hücreye göre yönünü gideceği hücreye çeviriyor    \n",
    "def yönbul(hücre):\n",
    "    return {\n",
    "        1: [0,270,180,90],\n",
    "        2: [180,0,270,90],\n",
    "        3: [180,270,0,90],\n",
    "        \n",
    "        4: [90,0,270,180],\n",
    "        5: [90,180,0,270],\n",
    "        6: [90,180,270,0],\n",
    "        \n",
    "        7: [90,0,180,270],\n",
    "        8: [90,180,0,270],\n",
    "        9: [90,180,270,0]\n",
    "    } [hücre]\n",
    "\n",
    "\n",
    "def yönlükomşubul(X,Y,current):\n",
    "\n",
    "    return {\n",
    "        1: [(X,Y,2,0),(X,Y,4,270),(X-1,Y,3,180),(X,Y+1,7,90)],\n",
    "        2: [(X,Y,1,180),(X,Y,3,0),(X,Y,5,270),(X,Y+1,8,90)],\n",
    "        3: [(X,Y,2,180),(X,Y,6,270),(X+1,Y,1,0),(X,Y+1,9,90)],\n",
    "        \n",
    "        4: [(X,Y,1,90),(X,Y,5,0),(X,Y,7,270),(X-1,Y,6,180)],\n",
    "        5: [(X,Y,2,90),(X,Y,4,180),(X,Y,6,0),(X,Y,8,270)],\n",
    "        6: [(X,Y,3,90),(X,Y,5,180),(X,Y,9,270),(X+1,Y,4,0)],\n",
    "        \n",
    "        7: [(X,Y,4,90),(X,Y,8,0),(X-1,Y,9,180),(X,Y-1,1,270)],\n",
    "        8: [(X,Y,5,90),(X,Y,7,180),(X,Y,9,0),(X,Y-1,2,270)],\n",
    "        9: [(X,Y,6,90),(X,Y,8,180),(X,Y-1,3,270),(X+1,Y,7,0)]\n",
    "    } [current]\n",
    "\n",
    "\n",
    "def komşubul(X,Y,current):\n",
    "\n",
    "    return {\n",
    "        1: [(X,Y,2),(X,Y,4),(X-1,Y,3),(X,Y+1,7)],\n",
    "        2: [(X,Y,1),(X,Y,3),(X,Y,5),(X,Y+1,8)],\n",
    "        3: [(X,Y,2),(X,Y,6),(X+1,Y,1),(X,Y+1,9)],\n",
    "        4: [(X,Y,1),(X,Y,5),(X,Y,7),(X-1,Y,6)],\n",
    "        5: [(X,Y,2),(X,Y,4),(X,Y,6),(X,Y,8)],\n",
    "        6: [(X,Y,3),(X,Y,5),(X,Y,9),(X+1,Y,4)],\n",
    "        7: [(X,Y,4),(X,Y,8),(X-1,Y,9),(X,Y-1,1)],\n",
    "        8: [(X,Y,5),(X,Y,7),(X,Y,9),(X,Y-1,2)],\n",
    "        9: [(X,Y,6),(X,Y,8),(X,Y-1,3),(X+1,Y,7)]\n",
    "    } [current]\n",
    "\n"
   ]
  },
  {
   "cell_type": "code",
   "execution_count": 581,
   "metadata": {
    "collapsed": true
   },
   "outputs": [],
   "source": [
    "#directions \n",
    "#0 - east \n",
    "#90 - south\n",
    "#180 - west\n",
    "#270 - north\n",
    "\n",
    "def dön(yön):\n",
    "    global currentyön\n",
    "    \n",
    "    turtle.setheading(yön)\n",
    "    robo.setheading(yön)\n",
    "    \n",
    "    currentyön =yön\n",
    "    return"
   ]
  },
  {
   "cell_type": "code",
   "execution_count": 582,
   "metadata": {
    "collapsed": false
   },
   "outputs": [],
   "source": [
    "#Alanı çiz\n",
    "#Draw the board\n",
    "if not tekrarla:\n",
    "    robo.reset()\n",
    "\n",
    "def çiz(x,y):\n",
    "    robo.penup()\n",
    "    robo.setpos(x,y)\n",
    "    robo.pendown()\n",
    "    robo.forward(boy)\n",
    "    return\n",
    "\n",
    "\n",
    "def numpadçiz(X,Y):\n",
    "\n",
    "    \n",
    "    dön(0)\n",
    "    \n",
    "    çiz(0+(koor*X),0  + (koor*Y))\n",
    "    çiz(0+(koor*X),10 + (koor*Y))\n",
    "    çiz(0+(koor*X),20 + (koor*Y))\n",
    "    çiz(0+(koor*X),30 + (koor*Y))\n",
    "\n",
    "    dön(270)\n",
    "\n",
    "    çiz(30+(koor*X),30  + (koor*Y))\n",
    "    çiz(20+(koor*X),30  + (koor*Y))\n",
    "    çiz(10+(koor*X),30  + (koor*Y))\n",
    "    çiz(0+(koor*X),30  + (koor*Y))        \n",
    "        \n",
    "    return\n",
    "\n"
   ]
  },
  {
   "cell_type": "code",
   "execution_count": 583,
   "metadata": {
    "collapsed": false
   },
   "outputs": [],
   "source": [
    "# hem dönüyor, hem döndüğü yönü getiriyor\n",
    "def doğruyönedön(yer,döndönme):\n",
    "    yeniyön = None\n",
    "    #x,y,gidilecekYer = yer\n",
    "    # buradaki asıl amacımız komşubulmaktan ziyade belli bir komşunun \n",
    "    #hangi yönde olduğunu bulmak; \n",
    "    #o yüzden x-1 leri filan ve >-1000 leri bırakıyoruz.\n",
    "    \n",
    "    \n",
    "    vahşikomşular = yönlükomşubul(X,Y,hücrem)        \n",
    "    \n",
    "    for index, item in enumerate(vahşikomşular):\n",
    "        if item[2]==yer[2]:\n",
    "            yeniyön = item[3]            \n",
    "            if döndönme:\n",
    "                dön(yeniyön)\n",
    "    \n",
    "    return yeniyön"
   ]
  },
  {
   "cell_type": "code",
   "execution_count": 584,
   "metadata": {
    "collapsed": false
   },
   "outputs": [],
   "source": [
    "def engelkoy(X,Y,sayı):\n",
    "    global durum,puan,engelli\n",
    "    \n",
    "    #random engel üretirken üst üste aynı yere koyarsa bitti kontrolü hatalı oluyor\n",
    "    if durum[X,Y,sayı]==0:\n",
    "        engelli +=1\n",
    "        engel.setpos(cell(X,Y,sayı))\n",
    "        durum[X,Y,sayı]= 2\n",
    "        puan[X,Y,sayı] = -1000  \n",
    "        engel.stamp()"
   ]
  },
  {
   "cell_type": "code",
   "execution_count": 585,
   "metadata": {
    "collapsed": true
   },
   "outputs": [],
   "source": [
    "# c currentyön,döneceğiyön, 2: L90, 3:R90, 4:180 derecelik dönüş\n",
    "def yolayönekle(c,a):\n",
    "    return {\n",
    "        (0,270)   : 2,\n",
    "        (270,180) : 2,\n",
    "        (180,90)  : 2,\n",
    "        (90,0)    : 2,\n",
    "        (0,90)    : 3,\n",
    "        (90,180)  : 3,\n",
    "        (180,270) : 3,\n",
    "        (270,0)   : 3,\n",
    "        (0,180)   : 4,\n",
    "        (90,270)  : 4,\n",
    "        (180,0)   : 4,\n",
    "        (270,90)  : 4\n",
    "    } [(c,a)]    "
   ]
  },
  {
   "cell_type": "code",
   "execution_count": 586,
   "metadata": {
    "collapsed": true
   },
   "outputs": [],
   "source": [
    "def Git(yer):\n",
    "    global hücrem,durum,puan,ziyaret,X,Y,bitti,adımsayısı,yol\n",
    "    if bitti == False:\n",
    "        yeniyön = None\n",
    "\n",
    "        #yön savaşları\n",
    "        eskiyön = currentyön\n",
    "        yeniyön = doğruyönedön(yer,True)\n",
    "        if yeniyön!=eskiyön:\n",
    "            yol.append(yolayönekle(eskiyön,yeniyön))\n",
    "            #Arduinoya 2,3,4 den birini yolluyor\n",
    "            datayolla(yolayönekle(eskiyön,yeniyön))\n",
    "        #Güncelleme\n",
    "        X,Y,gidilecekyer = yer\n",
    "        hücrem = gidilecekyer\n",
    "        ziyaret[yer] += 1\n",
    "        durum[yer]=1\n",
    "        puan[yer]-=0.5\n",
    "               \n",
    "\n",
    "        adımsayısı += 1\n",
    "        yol.append(1)\n",
    "        #Arduinoya 1 yolluyor\n",
    "        datayolla(1)\n",
    "        turtle.setpos(cell(X,Y,gidilecekyer))\n",
    "        "
   ]
  },
  {
   "cell_type": "code",
   "execution_count": 587,
   "metadata": {
    "collapsed": false
   },
   "outputs": [],
   "source": [
    "def puanaGöreKomşuSeç():\n",
    "    global  bitti\n",
    "    \n",
    "\n",
    "    \n",
    "\n",
    "    karmaliste = []\n",
    "    sortedkarmaliste = []\n",
    "    komşulistesi = []\n",
    "    #eksi X,Y oldumu liste dışı olacak   !!!!!!!!!!!!!!!!!!!\n",
    "    for yer in komşubul(X,Y,hücrem):\n",
    "        if yer[0]>=0 and yer[1]>=0 and yer[0]<yatay and yer[1]<dikey and puan[yer]>-500:\n",
    "            komşulistesi.append(yer)\n",
    "    \n",
    "    if len(komşulistesi)==0:\n",
    "        bitti = True\n",
    "        return\n",
    "    \n",
    "        #tek çıkışlı bir noktaya gittikten sonra geri dönmesin ve bir daha gelmesin diye -500    \n",
    "    if len(komşulistesi)==1:        \n",
    "        puan[X,Y,hücrem]=-500\n",
    "        return komşulistesi[0]\n",
    "        \n",
    "    for yer in komşulistesi:\n",
    "        #puanlistesi.append(puan[yer])\n",
    "        #yönlistesi.append(yönbul(hücrem)[yer[2]])\n",
    "        c = []\n",
    "        c.append(yer)\n",
    "        c.extend([(doğruyönedön(yer,False)),puan[yer]])\n",
    "        karmaliste.append(c)\n",
    "    \n",
    "    #Düz gideceksin, GO\n",
    "    sortedkarmaliste  = sorted(karmaliste, key=itemgetter(2),reverse=True)   \n",
    "    enYüksekPuanlıYer = sortedkarmaliste[0][0]   \n",
    "    \n",
    "    if düzgit:\n",
    "        if len(sortedkarmaliste) == 2:\n",
    "            ikinciYer =sortedkarmaliste[1][0]\n",
    "            #puanları eşitse:\n",
    "            if sortedkarmaliste[0][2] == sortedkarmaliste[1][2]:\n",
    "                #if1.ninyönü...\n",
    "                if sortedkarmaliste[0][1] == currentyön:\n",
    "                    return enYüksekPuanlıYer\n",
    "                #if2.ninyönü...\n",
    "                if sortedkarmaliste[1][1] == currentyön:\n",
    "                    return ikinciYer\n",
    "\n",
    "        #####333333######\n",
    "        if len(sortedkarmaliste) == 3:\n",
    "            ikinciYer =sortedkarmaliste[1][0]\n",
    "            üçüncüYer = sortedkarmaliste[2][0]\n",
    "            #puanı birinciyle eşitse:\n",
    "                    #puanları eşitse:\n",
    "            if sortedkarmaliste[0][2] == sortedkarmaliste[1][2]:\n",
    "                #if1.ninyönü...\n",
    "                if sortedkarmaliste[0][1] == currentyön:\n",
    "                    return enYüksekPuanlıYer\n",
    "                #if2.ninyönü...\n",
    "                if sortedkarmaliste[1][1] == currentyön:\n",
    "                    return ikinciYer\n",
    "            if sortedkarmaliste[0][2] == sortedkarmaliste[2][2]:\n",
    "                #if3.ninyönü...\n",
    "                if sortedkarmaliste[2][1] == currentyön:\n",
    "                    return üçüncüYer\n",
    "\n",
    "        #####444444######\n",
    "        if len(sortedkarmaliste) == 4:\n",
    "            ikinciYer =sortedkarmaliste[1][0]\n",
    "            üçüncüYer = sortedkarmaliste[2][0]        \n",
    "            dördüncüYer = sortedkarmaliste[3][0]\n",
    "\n",
    "                    #puanları eşitse:\n",
    "            if sortedkarmaliste[0][2] == sortedkarmaliste[1][2]:\n",
    "                #if1.ninyönü...\n",
    "                if sortedkarmaliste[0][1] == currentyön:\n",
    "                    return enYüksekPuanlıYer\n",
    "                #if2.ninyönü...\n",
    "                if sortedkarmaliste[1][1] == currentyön:\n",
    "                    return ikinciYer\n",
    "            if sortedkarmaliste[0][2] == sortedkarmaliste[2][2]:\n",
    "                #if3.ninyönü...\n",
    "                if sortedkarmaliste[2][1] == currentyön:\n",
    "                    return üçüncüYer\n",
    "            if sortedkarmaliste[0][2] == sortedkarmaliste[3][2]:\n",
    "                #if3.ninyönü...\n",
    "                if sortedkarmaliste[3][1] == currentyön:\n",
    "                    return dördüncüYer\n",
    "\n",
    "\n",
    "\n",
    "\n",
    "    return enYüksekPuanlıYer"
   ]
  },
  {
   "cell_type": "code",
   "execution_count": 588,
   "metadata": {
    "collapsed": false
   },
   "outputs": [],
   "source": [
    "def parılda():\n",
    "    pass"
   ]
  },
  {
   "cell_type": "code",
   "execution_count": 589,
   "metadata": {
    "collapsed": false
   },
   "outputs": [],
   "source": [
    "durum[1,1,1]=0"
   ]
  },
  {
   "cell_type": "code",
   "execution_count": 590,
   "metadata": {
    "collapsed": false
   },
   "outputs": [
    {
     "data": {
      "text/plain": [
       "array([[[-1,  0,  0,  0,  0,  0,  0,  0,  0,  0],\n",
       "        [-1,  0,  0,  0,  0,  0,  0,  0,  0,  0]],\n",
       "\n",
       "       [[-1,  0,  0,  0,  0,  0,  0,  0,  0,  0],\n",
       "        [-1,  0,  0,  0,  0,  0,  0,  0,  0,  0]],\n",
       "\n",
       "       [[-1,  0,  0,  0,  0,  0,  0,  0,  0,  0],\n",
       "        [-1,  0,  0,  0,  0,  0,  0,  0,  0,  0]]])"
      ]
     },
     "execution_count": 590,
     "metadata": {},
     "output_type": "execute_result"
    }
   ],
   "source": [
    "durum"
   ]
  },
  {
   "cell_type": "code",
   "execution_count": 591,
   "metadata": {
    "collapsed": false
   },
   "outputs": [],
   "source": [
    "def tara():\n",
    "    global bitti\n",
    "    while not bitti:\n",
    "        #parıltı\n",
    "        #if  (sum(durum.ravel()) - ((engelli)  + ((8)*yatay*dikey))) == 1:\n",
    "         #   parılda()\n",
    "        Git(puanaGöreKomşuSeç())\n",
    "        # bir hücreye maxziyaret sefer gittiyse bitir\n",
    "        if max(ziyaret.ravel()) >= maxziyaret :\n",
    "            bitti = True\n",
    "        # bütün gidilebilecek noktalara gittiyse bitir\n",
    "        if sum(durum.ravel()) == (engelli)  + ((8)*yatay*dikey):\n",
    "            bitti = True\n",
    "        if bitti :\n",
    "            if connected:\n",
    "                if arduino.is_open:\n",
    "                    arduino.close()\n",
    "                    time.sleep(1)\n",
    "    return"
   ]
  },
  {
   "cell_type": "code",
   "execution_count": 592,
   "metadata": {
    "collapsed": false
   },
   "outputs": [],
   "source": [
    "def hapisHücreKontrolu():\n",
    "    global durum\n",
    "    \n",
    "    for x in range(yatay):\n",
    "        for y in range(dikey):\n",
    "            for h in range(1,10):    \n",
    "                komşulistesi = []\n",
    "                for yer in komşubul(x,y,h):\n",
    "                    if yer[0]>=0 and yer[1]>=0 and yer[0]<yatay and yer[1]<dikey and puan[yer]>-500:\n",
    "                        komşulistesi.append(yer)\n",
    "                if len(komşulistesi)==0:\n",
    "                    durum[x,y,h]=1"
   ]
  },
  {
   "cell_type": "code",
   "execution_count": 593,
   "metadata": {
    "collapsed": true
   },
   "outputs": [],
   "source": [
    "for yer in komşubul(0,1,1):\n",
    "    komşulistesi = []\n",
    "    if yer[0]>=0 and yer[1]>=0 and yer[0]<yatay and yer[1]<dikey and puan[yer]>-500:\n",
    "        komşulistesi.append(yer)\n",
    "    if len(komşulistesi)==0:\n",
    "        durum[0,1,1]=1"
   ]
  },
  {
   "cell_type": "raw",
   "metadata": {
    "collapsed": false
   },
   "source": [
    "if not tekrarla:\n",
    "    robo.hideturtle()\n",
    "    for x in range(yatay):\n",
    "        for y in range(dikey):\n",
    "            numpadçiz(x,y)\n"
   ]
  },
  {
   "cell_type": "code",
   "execution_count": 594,
   "metadata": {
    "collapsed": false
   },
   "outputs": [],
   "source": [
    "#engel şeklini oluşturuyor\n",
    "engel.penup() #kalem yukarı çıkıyor: yani inene kadar çizmiyor\n",
    "\n",
    "engel.color(\"yellow\")\n",
    "engel.shape(\"circle\")\n",
    "engel.shapesize(3,3)\n",
    "\n"
   ]
  },
  {
   "cell_type": "code",
   "execution_count": 595,
   "metadata": {
    "collapsed": false
   },
   "outputs": [],
   "source": [
    "#başlangıç\n",
    "if not tekrarla:\n",
    "    dön(90)\n",
    "    X=0\n",
    "    Y=0\n",
    "    hücrem = 7\n",
    "    durum[X,Y,hücrem] = 1\n",
    "    puan[X,Y,hücrem] -= 0.5\n",
    "    ziyaret[X,Y,hücrem] += 1\n",
    "    turtle.setpos(cell(0,0,7))\n",
    "    turtle.speed(1)\n",
    "    \n",
    "    \n",
    "    if rastgele:\n",
    "        #engel konuyor\n",
    "        i=0\n",
    "        for i in range(10):\n",
    "            a = random.sample(range(3), 1)\n",
    "            b = random.sample(range(2), 1)\n",
    "            c = random.sample(range(10), 1)\n",
    "            x = a[0]\n",
    "            a = random.sample(range(3), 1)\n",
    "            y = b[0]\n",
    "            no = c[0]\n",
    "            engelkoy(x,y,no)\n",
    "    else:\n",
    "        engeller = []\n",
    "        engeller = np.genfromtxt('engeller.csv',dtype='int', delimiter=',')\n",
    "        for i in range(len(engeller)):\n",
    "            x,y,no = engeller[i]\n",
    "            engelkoy(x,y,no)\n",
    "    hapisHücreKontrolu()\n",
    "    turtle.speed(1)    "
   ]
  },
  {
   "cell_type": "code",
   "execution_count": 596,
   "metadata": {
    "collapsed": false
   },
   "outputs": [],
   "source": [
    "turtle.color(\"pink\")\n",
    "turtle.shape(\"turtle\")\n",
    "turtle.speed(1)\n",
    "turtle.shapesize(3,2)\n",
    "#turtle.setpos(5,5)\n",
    "\n"
   ]
  },
  {
   "cell_type": "code",
   "execution_count": 597,
   "metadata": {
    "collapsed": false
   },
   "outputs": [
    {
     "name": "stdout",
     "output_type": "stream",
     "text": [
      "117\n"
     ]
    }
   ],
   "source": [
    "#main\n",
    "turtle.clear()\n",
    "tekrarla =False  # tekrarlamak istiyorsan True yapcan\n",
    "yol = []\n",
    "turtle.pendown()\n",
    "turtle.pencolor(\"pink\")\n",
    "adımsayısı = 0\n",
    "if tekrarla:\n",
    "    turtle.penup()\n",
    "    maxziyaret = 100\n",
    "    bitti =False\n",
    "    for xx  in range(yatay):\n",
    "        for yy in range(dikey):\n",
    "            for sayıre in range(10):\n",
    "                if durum[xx,yy,sayıre]==1:\n",
    "                    durum[xx,yy,sayıre]=0\n",
    "    turtle.pencolor(\"pink\")\n",
    "    dön(90)\n",
    "    X=0\n",
    "    Y=0\n",
    "    hücrem = 7\n",
    "    durum[X,Y,hücrem] = 1\n",
    "    puan[X,Y,hücrem] -= 0.5\n",
    "    ziyaret[X,Y,hücrem] += 1\n",
    "    turtle.setpos(cell(0,0,7))\n",
    "    turtle.speed(1)\n",
    "    turtle.pendown()\n",
    "tara()\n",
    "print (adımsayısı)"
   ]
  },
  {
   "cell_type": "code",
   "execution_count": 598,
   "metadata": {
    "collapsed": false
   },
   "outputs": [
    {
     "data": {
      "text/plain": [
       "171"
      ]
     },
     "execution_count": 598,
     "metadata": {},
     "output_type": "execute_result"
    }
   ],
   "source": [
    "len(yol)"
   ]
  },
  {
   "cell_type": "raw",
   "metadata": {
    "collapsed": false
   },
   "source": [
    "1 : ileri\n",
    "2 : L90\n",
    "3 : R90\n",
    "4 : 180"
   ]
  },
  {
   "cell_type": "markdown",
   "metadata": {},
   "source": [
    "### iyileştirme\n"
   ]
  },
  {
   "cell_type": "code",
   "execution_count": 599,
   "metadata": {
    "collapsed": false
   },
   "outputs": [
    {
     "data": {
      "text/plain": [
       "array([[[   -1,    96,    97, -1000,    97,    97,    98,    97,    97,\n",
       "            97],\n",
       "        [   -1,  -500,    97,    98, -1000,    98,    97,  -500, -1000,\n",
       "            98]],\n",
       "\n",
       "       [[   -1,    98,    97,    97,    97,    97,    97,    97,    96,\n",
       "            97],\n",
       "        [   -1, -1000,    97,    97, -1000,    97,    97,    98,    97,\n",
       "            97]],\n",
       "\n",
       "       [[   -1,    98, -1000,    98,    98,    99,    98, -1000,    99,\n",
       "            99],\n",
       "        [   -1,    97,    97,    98,    97,    97,    98,    98,    98,\n",
       "            98]]])"
      ]
     },
     "execution_count": 599,
     "metadata": {},
     "output_type": "execute_result"
    }
   ],
   "source": [
    "puan"
   ]
  },
  {
   "cell_type": "code",
   "execution_count": 600,
   "metadata": {
    "collapsed": false
   },
   "outputs": [
    {
     "data": {
      "text/plain": [
       "array([[[0, 4, 3, 0, 3, 3, 2, 3, 3, 3],\n",
       "        [0, 1, 3, 2, 0, 2, 3, 1, 0, 2]],\n",
       "\n",
       "       [[0, 2, 3, 3, 3, 3, 3, 3, 4, 3],\n",
       "        [0, 0, 3, 3, 0, 3, 3, 2, 3, 3]],\n",
       "\n",
       "       [[0, 2, 0, 2, 2, 1, 2, 0, 1, 1],\n",
       "        [0, 3, 3, 2, 3, 3, 2, 2, 2, 2]]])"
      ]
     },
     "execution_count": 600,
     "metadata": {},
     "output_type": "execute_result"
    }
   ],
   "source": [
    "ziyaret"
   ]
  },
  {
   "cell_type": "code",
   "execution_count": 601,
   "metadata": {
    "collapsed": false
   },
   "outputs": [
    {
     "data": {
      "text/plain": [
       "array([[[-1,  1,  1,  2,  1,  1,  1,  1,  1,  1],\n",
       "        [-1,  1,  1,  1,  2,  1,  1,  1,  2,  1]],\n",
       "\n",
       "       [[-1,  1,  1,  1,  1,  1,  1,  1,  1,  1],\n",
       "        [-1,  2,  1,  1,  2,  1,  1,  1,  1,  1]],\n",
       "\n",
       "       [[-1,  1,  2,  1,  1,  1,  1,  2,  1,  1],\n",
       "        [-1,  1,  1,  1,  1,  1,  1,  1,  1,  1]]])"
      ]
     },
     "execution_count": 601,
     "metadata": {},
     "output_type": "execute_result"
    }
   ],
   "source": [
    "durum"
   ]
  },
  {
   "cell_type": "code",
   "execution_count": 602,
   "metadata": {
    "collapsed": false
   },
   "outputs": [
    {
     "data": {
      "text/plain": [
       "array([[[   -1,    96,    97, -1000,    97,    97,    98,    97,    97,\n",
       "            97],\n",
       "        [   -1,  -500,    97,    98, -1000,    98,    97,  -500, -1000,\n",
       "            98]],\n",
       "\n",
       "       [[   -1,    98,    97,    97,    97,    97,    97,    97,    96,\n",
       "            97],\n",
       "        [   -1, -1000,    97,    97, -1000,    97,    97,    98,    97,\n",
       "            97]],\n",
       "\n",
       "       [[   -1,    98, -1000,    98,    98,    99,    98, -1000,    99,\n",
       "            99],\n",
       "        [   -1,    97,    97,    98,    97,    97,    98,    98,    98,\n",
       "            98]]])"
      ]
     },
     "execution_count": 602,
     "metadata": {},
     "output_type": "execute_result"
    }
   ],
   "source": [
    "puan"
   ]
  },
  {
   "cell_type": "code",
   "execution_count": null,
   "metadata": {
    "collapsed": true
   },
   "outputs": [],
   "source": []
  }
 ],
 "metadata": {
  "kernelspec": {
   "display_name": "Python 3",
   "language": "python",
   "name": "python3"
  },
  "language_info": {
   "codemirror_mode": {
    "name": "ipython",
    "version": 3
   },
   "file_extension": ".py",
   "mimetype": "text/x-python",
   "name": "python",
   "nbconvert_exporter": "python",
   "pygments_lexer": "ipython3",
   "version": "3.6.0"
  }
 },
 "nbformat": 4,
 "nbformat_minor": 2
}
