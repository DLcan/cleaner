{
 "cells": [
  {
   "cell_type": "markdown",
   "metadata": {
    "collapsed": false
   },
   "source": [
    "###-----------------------"
   ]
  },
  {
   "cell_type": "code",
   "execution_count": 159,
   "metadata": {
    "collapsed": false
   },
   "outputs": [],
   "source": [
    "# değişken haline getirilecek\n",
    "#cell numpad kurallarıyla\n",
    "def cell(X,Y,number):\n",
    "    return {\n",
    "        1: (5+(koor*X),25 + (koor*Y)),\n",
    "        2: (15+(koor*X),25 + (koor*Y)),\n",
    "        3: (25+(koor*X),25 + (koor*Y)),\n",
    "        4: (5+(koor*X),15 + (koor*Y)),\n",
    "        5: (15+(koor*X),15 + (koor*Y)),\n",
    "        6: (25+(koor*X),15 + (koor*Y)),\n",
    "        7: (5+(koor*X),5 + (koor*Y)),\n",
    "        8: (15+(koor*X),5 + (koor*Y)),\n",
    "        9: (25+(koor*X),5 + (koor*Y))\n",
    "    } [number]\n",
    "\n",
    "    \n",
    "\n",
    "\n",
    "#durduğu hücreye göre yönünü gideceği hücreye çeviriyor    \n",
    "def yönbul(hücre):\n",
    "    return {\n",
    "        1: [ 0,270,180,90],\n",
    "        2: [180,0,270,90],\n",
    "        3: [180,270,0,90],\n",
    "        4: [90,0,270,180],\n",
    "        5: [90,180,0,270],\n",
    "        6: [90,180,270,0],\n",
    "        7: [90,0,180,270],\n",
    "        8: [90,180,0,270],\n",
    "        9: [90,180]\n",
    "    } [hücre]\n",
    "\n",
    "\n",
    "def komşubul(X,Y,current):\n",
    "    return {\n",
    "        1: [(X,Y,2),(X,Y,4),(X-1,Y,3),(X,Y+1,7)],\n",
    "        2: [(X,Y,1),(X,Y,3),(X,Y,5),(X,Y+1,8)],\n",
    "        3: [(X,Y,2),(X,Y,6),(X+1,Y,1),(X,Y+1,9)],\n",
    "        4: [(X,Y,1),(X,Y,5),(X,Y,7),(X-1,Y,6)],\n",
    "        5: [(X,Y,2),(X,Y,4),(X,Y,6),(X,Y,8)],\n",
    "        6: [(X,Y,3),(X,Y,5),(X,Y,9),(X+1,Y,4)],\n",
    "        7: [(X,Y,4),(X,Y,8),(X-1,Y,9),(X,Y-1,1)],\n",
    "        8: [(X,Y,5),(X,Y,7),(X,Y,9),(X,Y-1,2)],\n",
    "        9: [(X,Y,6),(X,Y,8),(X,Y-1,3),(X+1,Y,7)]\n",
    "    } [current]\n",
    "    \n",
    "    return\n",
    "\n",
    "def doğruyönedön(yer):\n",
    "    X,Y,gidilecekYer = yer\n",
    "    ind = komşubul(X,Y,hücrem)\n",
    "    for index, item in enumerate(ind):\n",
    "        if item==yer:\n",
    "            dön(yönbul(hücrem)[index])\n",
    "    return"
   ]
  },
  {
   "cell_type": "code",
   "execution_count": 160,
   "metadata": {
    "collapsed": true
   },
   "outputs": [],
   "source": [
    "import numpy as np"
   ]
  },
  {
   "cell_type": "code",
   "execution_count": 161,
   "metadata": {
    "collapsed": false
   },
   "outputs": [],
   "source": [
    "blok = 1         # \n",
    "numpad = 10      # 9 hücreden oluşuyor, hücrelerin adları numpadle aynı,[0]kullanılmıyor\n",
    "boy = 30         # robotun boyu ve eni 30cm olarak düşünülebilir\n",
    "maxziyaret = 10  # aynı hücreye 10 kere giderse sonlanıyor\n",
    "\n",
    "yatay = 2  # yanyana olan numpad sayısı herbiri 90 cm olabilir (5 demek 4,5 metre)\n",
    "dikey = yatay  # dikey olarak numpad sayısı  yatay x dikey\n",
    "\n",
    "#######\n",
    "\n",
    "#durum  -1 kullanılmıyor\n",
    "#        0: gidilmedi\n",
    "#        1: gidildifor j in range(yatay):\n",
    "#        2: engelli (gidilemez)\n",
    "ndurum = np.zeros((numpad),dtype='int')\n",
    "#her hücrenin kendi adıyla girilebilmesi için [0] kullanım dışı (-1)\n",
    "ndurum[0] = -1\n",
    "\n",
    "#hücrelerin puanları\n",
    "#engelliyse 0 \n",
    "#her hücrenin başlangıç puanı 10\n",
    "npuan = 10*np.ones((numpad),dtype='int')\n",
    "#her hücrenin kendi adıyla girilebilmesi için [0] kullanım dışı (-1)\n",
    "npuan[0] = -1\n",
    "\n",
    "#her gidişte artan\n",
    "nziyaret = np.zeros((numpad),dtype='int')\n",
    "\n",
    "durum = np.zeros((yatay,dikey,numpad),dtype='int') \n",
    "puan = np.zeros((yatay,dikey,numpad),dtype='int') \n",
    "ziyaret = np.zeros((yatay,dikey,numpad),dtype='int') \n"
   ]
  },
  {
   "cell_type": "code",
   "execution_count": 162,
   "metadata": {
    "collapsed": false
   },
   "outputs": [],
   "source": [
    "for x in range(yatay):\n",
    "    for y in range(dikey):\n",
    "        durum[x,y] = ndurum\n",
    "        puan[x,y] = npuan \n",
    "        ziyaret[x,y] = nziyaret        "
   ]
  },
  {
   "cell_type": "code",
   "execution_count": 163,
   "metadata": {
    "collapsed": false
   },
   "outputs": [],
   "source": [
    "#initialize\n",
    "numpadim = [0,0]  #current numpad\n",
    "hücrem = 0    #current cell\n",
    "engelli = 0  #engel sayısı"
   ]
  },
  {
   "cell_type": "code",
   "execution_count": 164,
   "metadata": {
    "collapsed": false
   },
   "outputs": [],
   "source": [
    "import turtle\n",
    "from turtle import *\n",
    "vn = turtle.Screen()\n",
    "robo = turtle.Turtle()\n",
    "engel = turtle.Turtle()\n",
    "\n",
    "#Açılan pencerenin boyutlarını belirliyor\n",
    "bigkoor = (3*boy) + 1\n",
    "#sıfır,sıfır sol üst köşede\n",
    "#0,0 left upper corner\n",
    "mode('world')\n",
    "setworldcoordinates(0,bigkoor,bigkoor,0) #Açılan pencerenin boyutlarını belirliyor\n",
    "koor = 30"
   ]
  },
  {
   "cell_type": "code",
   "execution_count": 165,
   "metadata": {
    "collapsed": true
   },
   "outputs": [],
   "source": [
    "#directions \n",
    "#0 - east \n",
    "#90 - south\n",
    "#180 - west\n",
    "#270 - north\n",
    "\n",
    "def dön(yön):\n",
    "    turtle.setheading(yön)\n",
    "    robo.setheading(yön)\n",
    "    return"
   ]
  },
  {
   "cell_type": "code",
   "execution_count": 166,
   "metadata": {
    "collapsed": false
   },
   "outputs": [],
   "source": [
    "#Alanı çiz\n",
    "#Draw the board\n",
    "robo.reset()\n",
    "\n",
    "def çiz(x,y):\n",
    "    robo.penup()\n",
    "    robo.setpos(x,y)\n",
    "    robo.pendown()\n",
    "    robo.forward(boy)\n",
    "    return\n",
    "\n",
    "\n",
    "def numpadçiz(X,Y):\n",
    "\n",
    "    \n",
    "    dön(0)\n",
    "    \n",
    "    çiz(0+(koor*X),0  + (koor*Y))\n",
    "    çiz(0+(koor*X),10 + (koor*Y))\n",
    "    çiz(0+(koor*X),20 + (koor*Y))\n",
    "    çiz(0+(koor*X),30 + (koor*Y))\n",
    "\n",
    "    dön(270)\n",
    "\n",
    "    çiz(30+(koor*X),30  + (koor*Y))\n",
    "    çiz(20+(koor*X),30  + (koor*Y))\n",
    "    çiz(10+(koor*X),30  + (koor*Y))\n",
    "    çiz(0+(koor*X),30  + (koor*Y))\n",
    "    return\n",
    "\n"
   ]
  },
  {
   "cell_type": "code",
   "execution_count": 167,
   "metadata": {
    "collapsed": true
   },
   "outputs": [],
   "source": [
    "\n",
    "for x in range(yatay):\n",
    "    for y in range(dikey):\n",
    "        numpadçiz(x,y)"
   ]
  },
  {
   "cell_type": "code",
   "execution_count": 168,
   "metadata": {
    "collapsed": false
   },
   "outputs": [],
   "source": [
    "def engelkoy(X,Y,sayı):\n",
    "    global durum,puan,engelli\n",
    "    engelli +=1\n",
    "    engel.setpos(cell(X,Y,sayı))\n",
    "    durum[X,Y,sayı]= 2\n",
    "    puan[X,Y,sayı] = -1000  \n",
    "    engel.stamp()"
   ]
  },
  {
   "cell_type": "code",
   "execution_count": 169,
   "metadata": {
    "collapsed": false
   },
   "outputs": [],
   "source": [
    "#engel şeklini oluşturuyor\n",
    "engel.penup() #kalem yukarı çıkıyor: yani inene kadar çizmiyor\n",
    "\n",
    "engel.color(\"yellow\")\n",
    "engel.shape(\"circle\")\n",
    "engel.shapesize(3,3)\n",
    "\n"
   ]
  },
  {
   "cell_type": "code",
   "execution_count": 170,
   "metadata": {
    "collapsed": false
   },
   "outputs": [],
   "source": [
    "#engel konuyor\n",
    "engelkoy(0,1,8)\n",
    "engelkoy(0,0,5)\n",
    "engelkoy(0,1,2)\n",
    "engelkoy(1,0,1) \n",
    "engelkoy(0,1,5)"
   ]
  },
  {
   "cell_type": "code",
   "execution_count": 171,
   "metadata": {
    "collapsed": false
   },
   "outputs": [],
   "source": [
    "turtle.reset()\n",
    "turtle.penup()\n",
    "\n",
    "turtle.color(\"pink\")\n",
    "turtle.shape(\"turtle\")\n",
    "\n",
    "turtle.shapesize(3,2)\n",
    "#turtle.setpos(5,5)\n",
    "\n"
   ]
  },
  {
   "cell_type": "code",
   "execution_count": 172,
   "metadata": {
    "collapsed": true
   },
   "outputs": [],
   "source": [
    "def Git(yer):\n",
    "    global hücrem,durum,puan,ziyaret,X,Y\n",
    "    X,Y,gidilecekyer = yer\n",
    "    doğruyönedön(yer)\n",
    "    turtle.setpos(cell(X,Y,gidilecekyer))\n",
    "    \n",
    "    #Güncelleme\n",
    "    hücrem = gidilecekyer\n",
    "    ziyaret[yer] += 1\n",
    "    durum[yer]=1\n",
    "    puan[yer]-=0.5\n",
    "        "
   ]
  },
  {
   "cell_type": "code",
   "execution_count": 173,
   "metadata": {
    "collapsed": false
   },
   "outputs": [],
   "source": [
    "def puanaGöreKomşuSeç():\n",
    "    global puanlistesi\n",
    "    global komşulistesi\n",
    "    puanlistesi = []\n",
    "    komşulistesi = []\n",
    "\n",
    "    #eksi X,Y oldumu liste dışı olacak   !!!!!!!!!!!!!!!!!!!1\n",
    "    for yer in komşubul(X,Y,hücrem):\n",
    "        if yer[0]>=0 and yer[1]>=0 and yer[0]<yatay and yer[1]<dikey:\n",
    "            komşulistesi.append(yer)\n",
    "        \n",
    "    for yer in komşulistesi:\n",
    "        puanlistesi.append(puan[yer])\n",
    "    d = dict(zip(komşulistesi,puanlistesi))\n",
    "    return sorted(d, key=d.__getitem__, reverse=True)[0]"
   ]
  },
  {
   "cell_type": "code",
   "execution_count": 174,
   "metadata": {
    "collapsed": false
   },
   "outputs": [],
   "source": [
    "def tara():\n",
    "    bitti = False\n",
    "    while not bitti:\n",
    "        Git(puanaGöreKomşuSeç())\n",
    "        # bir hücreye 10 sefer gittiyse bitir\n",
    "        if max(ziyaret.ravel()) >= 10 :\n",
    "            bitti = True\n",
    "        # bütün gidilebilecek noktalara gittiyse bitir\n",
    "        if sum(durum.ravel()) == (engelli)  + ((8)*yatay*dikey):\n",
    "            bitti = True\n",
    "    return"
   ]
  },
  {
   "cell_type": "code",
   "execution_count": 175,
   "metadata": {
    "collapsed": false
   },
   "outputs": [],
   "source": [
    "#başlangıç\n",
    "dön(90)\n",
    "X=0\n",
    "Y=0\n",
    "hücrem = 7\n",
    "turtle.setpos(cell(0,0,1))\n",
    "turtle.speed(1)\n"
   ]
  },
  {
   "cell_type": "code",
   "execution_count": 176,
   "metadata": {
    "collapsed": false,
    "scrolled": true
   },
   "outputs": [],
   "source": [
    "#main\n",
    "turtle.pendown()\n",
    "tara()\n"
   ]
  },
  {
   "cell_type": "code",
   "execution_count": 177,
   "metadata": {
    "collapsed": false
   },
   "outputs": [
    {
     "data": {
      "text/plain": [
       "6"
      ]
     },
     "execution_count": 177,
     "metadata": {},
     "output_type": "execute_result"
    }
   ],
   "source": [
    "hücrem"
   ]
  },
  {
   "cell_type": "markdown",
   "metadata": {},
   "source": [
    "# Alanı genişlet"
   ]
  },
  {
   "cell_type": "code",
   "execution_count": 178,
   "metadata": {
    "collapsed": false
   },
   "outputs": [],
   "source": [
    "yer=(1,0,5)\n",
    "doğruyönedön(yer)"
   ]
  },
  {
   "cell_type": "code",
   "execution_count": 179,
   "metadata": {
    "collapsed": false
   },
   "outputs": [
    {
     "data": {
      "text/plain": [
       "array([[[0, 3, 2, 2, 2, 0, 1, 1, 1, 1],\n",
       "        [0, 2, 0, 1, 3, 0, 1, 2, 0, 1]],\n",
       "\n",
       "       [[0, 0, 1, 1, 1, 1, 1, 1, 1, 1],\n",
       "        [0, 1, 1, 1, 1, 1, 1, 1, 1, 1]]])"
      ]
     },
     "execution_count": 179,
     "metadata": {},
     "output_type": "execute_result"
    }
   ],
   "source": [
    "ziyaret"
   ]
  },
  {
   "cell_type": "code",
   "execution_count": null,
   "metadata": {
    "collapsed": true
   },
   "outputs": [],
   "source": []
  }
 ],
 "metadata": {
  "kernelspec": {
   "display_name": "Python 3",
   "language": "python",
   "name": "python3"
  },
  "language_info": {
   "codemirror_mode": {
    "name": "ipython",
    "version": 3
   },
   "file_extension": ".py",
   "mimetype": "text/x-python",
   "name": "python",
   "nbconvert_exporter": "python",
   "pygments_lexer": "ipython3",
   "version": "3.6.0"
  }
 },
 "nbformat": 4,
 "nbformat_minor": 2
}
