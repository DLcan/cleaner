{
 "cells": [
  {
   "cell_type": "markdown",
   "metadata": {
    "collapsed": false
   },
   "source": [
    "###-----------------------"
   ]
  },
  {
   "cell_type": "code",
   "execution_count": 471,
   "metadata": {
    "collapsed": false
   },
   "outputs": [],
   "source": [
    "import numpy as np\n",
    "import random\n",
    "import turtle\n",
    "from turtle import *\n",
    "vn = turtle.Screen()\n",
    "robo = turtle.Turtle()\n",
    "robo.hideturtle()\n",
    "robo.penup()\n",
    "engel = turtle.Turtle()\n",
    "\n",
    "#initialize\n",
    "numpadim = [0,0]  #current numpad\n",
    "hücrem = 0    #current cell\n",
    "engelli = 0  #engel sayısı\n",
    "blok = 1         # \n",
    "numpad = 10      # 9 hücreden oluşuyor, hücrelerin adları numpadle aynı,[0]kullanılmıyor\n",
    "boy = 30         # robotun boyu ve eni 30cm olarak düşünülebilir\n",
    "maxziyaret = 5  # aynı hücreye 5 kere giderse sonlanıyor\n",
    "bitti = False    # True olunca sonlanıyor\n",
    "currentyön = 0\n",
    "\n",
    "yatay = 2  # yanyana olan numpad sayısı herbiri 90 cm olabilir (5 demek 4,5 metre)\n",
    "dikey = yatay  # dikey olarak numpad sayısı  yatay x dikey\n",
    "\n",
    "#######\n",
    "\n",
    "#durum  -1 kullanılmıyor\n",
    "#        0: gidilmedi\n",
    "#        1: gidildifor j in range(yatay):\n",
    "#        2: engelli (gidilemez)\n",
    "ndurum = np.zeros((numpad),dtype='int')\n",
    "#her hücrenin kendi adıyla girilebilmesi için [0] kullanım dışı (-1)\n",
    "ndurum[0] = -1\n",
    "\n",
    "#hücrelerin puanları\n",
    "#engelliyse 0 \n",
    "#her hücrenin başlangıç puanı 10\n",
    "npuan = 10*np.ones((numpad),dtype='int')\n",
    "#her hücrenin kendi adıyla girilebilmesi için [0] kullanım dışı (-1)\n",
    "npuan[0] = -1\n",
    "\n",
    "#her gidişte artan\n",
    "nziyaret = np.zeros((numpad),dtype='int')\n",
    "\n",
    "durum = np.zeros((yatay,dikey,numpad),dtype='int') \n",
    "puan = np.zeros((yatay,dikey,numpad),dtype='int') \n",
    "ziyaret = np.zeros((yatay,dikey,numpad),dtype='int') \n",
    "\n",
    "\n",
    "\n",
    "#Açılan pencerenin boyutlarını belirliyor\n",
    "bigkoor = (3*boy) + 1\n",
    "#sıfır,sıfır sol üst köşede\n",
    "#0,0 left upper corner\n",
    "mode('world')\n",
    "setworldcoordinates(0,bigkoor,bigkoor,0) #Açılan pencerenin boyutlarını belirliyor\n",
    "koor = 30\n",
    "\n",
    "for x in range(yatay):\n",
    "    for y in range(dikey):\n",
    "        durum[x,y] = ndurum\n",
    "        puan[x,y] = npuan \n",
    "        ziyaret[x,y] = nziyaret  "
   ]
  },
  {
   "cell_type": "code",
   "execution_count": 472,
   "metadata": {
    "collapsed": false
   },
   "outputs": [],
   "source": [
    "# değişken haline getirilecek\n",
    "#cell numpad kurallarıyla\n",
    "def cell(X,Y,number):\n",
    "    return {\n",
    "        1: (5+(koor*X),25 + (koor*Y)),\n",
    "        2: (15+(koor*X),25 + (koor*Y)),\n",
    "        3: (25+(koor*X),25 + (koor*Y)),\n",
    "        4: (5+(koor*X),15 + (koor*Y)),\n",
    "        5: (15+(koor*X),15 + (koor*Y)),\n",
    "        6: (25+(koor*X),15 + (koor*Y)),\n",
    "        7: (5+(koor*X),5 + (koor*Y)),\n",
    "        8: (15+(koor*X),5 + (koor*Y)),\n",
    "        9: (25+(koor*X),5 + (koor*Y))\n",
    "    } [number]\n",
    "\n",
    "    \n",
    "\n",
    "\n",
    "#durduğu hücreye göre yönünü gideceği hücreye çeviriyor    \n",
    "def yönbul(hücre):\n",
    "    return {\n",
    "        1: [ 0,270,180,90],\n",
    "        2: [180,0,270,90],\n",
    "        3: [180,270,0,90],\n",
    "        4: [90,0,270,180],\n",
    "        5: [90,180,0,270],\n",
    "        6: [90,180,270,0],\n",
    "        7: [90,0,180,270],\n",
    "        8: [90,180,0,270],\n",
    "        9: [90,180]\n",
    "    } [hücre]\n",
    "\n",
    "\n",
    "def komşubul(X,Y,current):\n",
    "    return {\n",
    "        1: [(X,Y,2),(X,Y,4),(X-1,Y,3),(X,Y+1,7)],\n",
    "        2: [(X,Y,1),(X,Y,3),(X,Y,5),(X,Y+1,8)],\n",
    "        3: [(X,Y,2),(X,Y,6),(X+1,Y,1),(X,Y+1,9)],\n",
    "        4: [(X,Y,1),(X,Y,5),(X,Y,7),(X-1,Y,6)],\n",
    "        5: [(X,Y,2),(X,Y,4),(X,Y,6),(X,Y,8)],\n",
    "        6: [(X,Y,3),(X,Y,5),(X,Y,9),(X+1,Y,4)],\n",
    "        7: [(X,Y,4),(X,Y,8),(X-1,Y,9),(X,Y-1,1)],\n",
    "        8: [(X,Y,5),(X,Y,7),(X,Y,9),(X,Y-1,2)],\n",
    "        9: [(X,Y,6),(X,Y,8),(X,Y-1,3),(X+1,Y,7)]\n",
    "    } [current]\n",
    "    \n",
    "    return\n",
    "\n",
    "def doğruyönedön(yer):\n",
    "    X,Y,gidilecekYer = yer\n",
    "    ind = komşubul(X,Y,hücrem)\n",
    "    for index, item in enumerate(ind):\n",
    "        if item==yer:\n",
    "            dön(yönbul(hücrem)[index])\n",
    "    return"
   ]
  },
  {
   "cell_type": "code",
   "execution_count": 473,
   "metadata": {
    "collapsed": true
   },
   "outputs": [],
   "source": [
    "#directions \n",
    "#0 - east \n",
    "#90 - south\n",
    "#180 - west\n",
    "#270 - north\n",
    "\n",
    "def dön(yön):\n",
    "    global currentyön\n",
    "    \n",
    "    turtle.setheading(yön)\n",
    "    robo.setheading(yön)\n",
    "    currentyön =yön\n",
    "    return"
   ]
  },
  {
   "cell_type": "code",
   "execution_count": 474,
   "metadata": {
    "collapsed": false
   },
   "outputs": [],
   "source": [
    "#Alanı çiz\n",
    "#Draw the board\n",
    "robo.reset()\n",
    "\n",
    "def çiz(x,y):\n",
    "    robo.penup()\n",
    "    robo.setpos(x,y)\n",
    "    robo.pendown()\n",
    "    robo.forward(boy)\n",
    "    return\n",
    "\n",
    "\n",
    "def numpadçiz(X,Y):\n",
    "\n",
    "    \n",
    "    dön(0)\n",
    "    \n",
    "    çiz(0+(koor*X),0  + (koor*Y))\n",
    "    çiz(0+(koor*X),10 + (koor*Y))\n",
    "    çiz(0+(koor*X),20 + (koor*Y))\n",
    "    çiz(0+(koor*X),30 + (koor*Y))\n",
    "\n",
    "    dön(270)\n",
    "\n",
    "    çiz(30+(koor*X),30  + (koor*Y))\n",
    "    çiz(20+(koor*X),30  + (koor*Y))\n",
    "    çiz(10+(koor*X),30  + (koor*Y))\n",
    "    çiz(0+(koor*X),30  + (koor*Y))\n",
    "    return\n",
    "\n"
   ]
  },
  {
   "cell_type": "code",
   "execution_count": 475,
   "metadata": {
    "collapsed": false
   },
   "outputs": [],
   "source": [
    "def engelkoy(X,Y,sayı):\n",
    "    global durum,puan,engelli\n",
    "    \n",
    "    #random engel üretirken üst üste aynı yere koyarsa bitti kontrolü hatalı oluyor\n",
    "    if durum[X,Y,sayı]==0:\n",
    "        engelli +=1\n",
    "        engel.setpos(cell(X,Y,sayı))\n",
    "        durum[X,Y,sayı]= 2\n",
    "        puan[X,Y,sayı] = -1000  \n",
    "        engel.stamp()"
   ]
  },
  {
   "cell_type": "code",
   "execution_count": 476,
   "metadata": {
    "collapsed": true
   },
   "outputs": [],
   "source": [
    "def Git(yer):\n",
    "    global hücrem,durum,puan,ziyaret,X,Y,bitti\n",
    "    if bitti == False:\n",
    "        X,Y,gidilecekyer = yer\n",
    "        doğruyönedön(yer)\n",
    "        \n",
    "        #Güncelleme\n",
    "        hücrem = gidilecekyer\n",
    "        ziyaret[yer] += 1\n",
    "        durum[yer]=1\n",
    "        puan[yer]-=0.5\n",
    "        turtle.setpos(cell(X,Y,gidilecekyer))\n"
   ]
  },
  {
   "cell_type": "code",
   "execution_count": 477,
   "metadata": {
    "collapsed": false
   },
   "outputs": [],
   "source": [
    "def puanaGöreKomşuSeç():\n",
    "    global puanlistesi,currentyön,komşulistesi\n",
    "     \n",
    "    puanlistesi = []\n",
    "    komşulistesi = []\n",
    "    yönlistesi = []\n",
    "    \n",
    "    #eksi X,Y oldumu liste dışı olacak   !!!!!!!!!!!!!!!!!!!1\n",
    "    for yer in komşubul(X,Y,hücrem):\n",
    "        if yer[0]>=0 and yer[1]>=0 and yer[0]<yatay and yer[1]<dikey:\n",
    "            komşulistesi.append(yer)\n",
    "        \n",
    "    for yer in komşulistesi:\n",
    "        puanlistesi.append(puan[yer])\n",
    "        yönlistesi.append(yönbul(yer[2]))\n",
    "        \n",
    "    d = dict(zip(komşulistesi,puanlistesi))\n",
    "    y = dict(zip(komşulistesi,yönlistesi))\n",
    "    \n",
    "    enYüksekPuanlıYer = sorted(d, key=d.__getitem__, reverse=True)[0]\n",
    "    \n",
    "    #-------gittiği yönde gitmeye devam etsin diye uğraşıyoruz----------\n",
    "    ikinciYer = sorted(d, key=d.__getitem__, reverse=True)[1]\n",
    "    if enYüksekPuanlıYer == ikinciYer:\n",
    "        if  y[ikinciYer]==currentyön:\n",
    "            print(\"düz gitti\")\n",
    "            if puan[ikinciYer]==-1000:\n",
    "                bitti = True\n",
    "            return ikinciYer\n",
    "    #    ind = (ikinciYer, enYüksekPuanlıYer)\n",
    "    #    for index, item in enumerate(ind):\n",
    "    #        if yönbul(item[2]) == currentyön:\n",
    "    #            return item\n",
    "            \n",
    "    #gidebileceği en iyi yer engelli ise sonlanıyor\n",
    "    if puan[enYüksekPuanlıYer]==-1000:\n",
    "        bitti = True\n",
    "        \n",
    "    return enYüksekPuanlıYer"
   ]
  },
  {
   "cell_type": "code",
   "execution_count": 478,
   "metadata": {
    "collapsed": false
   },
   "outputs": [],
   "source": [
    "def tara():\n",
    "    global bitti\n",
    "    while not bitti:\n",
    "        Git(puanaGöreKomşuSeç())\n",
    "        # bir hücreye 10 sefer gittiyse bitir\n",
    "        if max(ziyaret.ravel()) >= maxziyaret :\n",
    "            bitti = True\n",
    "        # bütün gidilebilecek noktalara gittiyse bitir\n",
    "        if sum(durum.ravel()) == (engelli)  + ((8)*yatay*dikey):\n",
    "            bitti = True\n",
    "    return"
   ]
  },
  {
   "cell_type": "code",
   "execution_count": 479,
   "metadata": {
    "collapsed": false
   },
   "outputs": [],
   "source": [
    "robo.hideturtle()\n",
    "for x in range(yatay):\n",
    "    for y in range(dikey):\n",
    "        numpadçiz(x,y)\n"
   ]
  },
  {
   "cell_type": "code",
   "execution_count": 480,
   "metadata": {
    "collapsed": false
   },
   "outputs": [],
   "source": [
    "#engel şeklini oluşturuyor\n",
    "engel.penup() #kalem yukarı çıkıyor: yani inene kadar çizmiyor\n",
    "\n",
    "engel.color(\"yellow\")\n",
    "engel.shape(\"circle\")\n",
    "engel.shapesize(3,3)\n",
    "\n"
   ]
  },
  {
   "cell_type": "code",
   "execution_count": 481,
   "metadata": {
    "collapsed": false
   },
   "outputs": [],
   "source": [
    "#başlangıç\n",
    "dön(90)\n",
    "X=0\n",
    "Y=0\n",
    "hücrem = 7\n",
    "durum[X,Y,hücrem] = 1\n",
    "puan[X,Y,hücrem] -= 0.5\n",
    "ziyaret[X,Y,hücrem] += 1\n",
    "turtle.setpos(cell(0,0,7))\n",
    "turtle.speed(1)\n",
    "\n",
    "#engel konuyor\n",
    "i=0\n",
    "for i in range(7):\n",
    "    a = random.sample(range(2), 1)\n",
    "    b = random.sample(range(2), 1)\n",
    "    c = random.sample(range(10), 1)\n",
    "    x = a[0]\n",
    "    y = b[0]\n",
    "    no = c[0]\n",
    "    engelkoy(x,y,no)\n",
    "    \n",
    "turtle.speed(1)    "
   ]
  },
  {
   "cell_type": "code",
   "execution_count": 482,
   "metadata": {
    "collapsed": false
   },
   "outputs": [],
   "source": [
    "\n",
    "turtle.penup()\n",
    "\n",
    "turtle.color(\"pink\")\n",
    "turtle.shape(\"turtle\")\n",
    "turtle.speed(1)\n",
    "turtle.shapesize(3,2)\n",
    "#turtle.setpos(5,5)\n",
    "\n"
   ]
  },
  {
   "cell_type": "code",
   "execution_count": 483,
   "metadata": {
    "collapsed": false,
    "scrolled": false
   },
   "outputs": [],
   "source": [
    "#main\n",
    "turtle.pendown()\n",
    "tara()\n"
   ]
  },
  {
   "cell_type": "code",
   "execution_count": 484,
   "metadata": {
    "collapsed": false,
    "scrolled": true
   },
   "outputs": [
    {
     "data": {
      "text/plain": [
       "array([[[   -1,    10, -1000,     6, -1000,     7,     6,     7,     5,\n",
       "             8],\n",
       "        [   -1,     8, -1000,     7,     7,     8,     6, -1000, -1000,\n",
       "             6]],\n",
       "\n",
       "       [[   -1,     6,     6,     7,     7,     7,     7,     7,     7,\n",
       "             8],\n",
       "        [   -1,     6,     6,     6,     6,     6,     6,     6,     6,\n",
       "             7]]])"
      ]
     },
     "execution_count": 484,
     "metadata": {},
     "output_type": "execute_result"
    }
   ],
   "source": [
    "puan"
   ]
  },
  {
   "cell_type": "markdown",
   "metadata": {},
   "source": [
    "# bug"
   ]
  },
  {
   "cell_type": "markdown",
   "metadata": {},
   "source": [
    "### iyileştirme\n"
   ]
  },
  {
   "cell_type": "code",
   "execution_count": null,
   "metadata": {
    "collapsed": true
   },
   "outputs": [],
   "source": []
  }
 ],
 "metadata": {
  "kernelspec": {
   "display_name": "Python 3",
   "language": "python",
   "name": "python3"
  },
  "language_info": {
   "codemirror_mode": {
    "name": "ipython",
    "version": 3
   },
   "file_extension": ".py",
   "mimetype": "text/x-python",
   "name": "python",
   "nbconvert_exporter": "python",
   "pygments_lexer": "ipython3",
   "version": "3.6.0"
  }
 },
 "nbformat": 4,
 "nbformat_minor": 2
}
