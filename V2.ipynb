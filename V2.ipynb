{
 "cells": [
  {
   "cell_type": "markdown",
   "metadata": {
    "collapsed": false
   },
   "source": [
    "###-----------------------"
   ]
  },
  {
   "cell_type": "code",
   "execution_count": 780,
   "metadata": {
    "collapsed": true
   },
   "outputs": [],
   "source": [
    "import numpy as np"
   ]
  },
  {
   "cell_type": "code",
   "execution_count": 781,
   "metadata": {
    "collapsed": true
   },
   "outputs": [],
   "source": [
    "blok = 1     # \n",
    "numpad = 10   # 9 hücreden oluşuyor, hücrelerin adları numpadle aynı\n",
    "boy = 30       #robotun boyu ve eni 30cm olarak düşünülebilir\n",
    "engelli = 0\n",
    "#durum  -1 kullanılmıyor\n",
    "#        0: gidilmedi\n",
    "#        1: gidildi\n",
    "#        2: engelli (gidilemez)\n",
    "durum = np.zeros((10),dtype='int')\n",
    "#her hücrenin kendi adıyla girilebilmesi için [0] kullanım dışı (-1)\n",
    "durum[0] = -1\n",
    "\n",
    "#hücrelerin puanları\n",
    "#engelliyse 0 \n",
    "#her hücrenin başlangıç puanı 10\n",
    "puan = 10*np.ones((10),dtype='int')\n",
    "#her hücrenin kendi adıyla girilebilmesi için [0] kullanım dışı (-1)\n",
    "puan[0] = -1\n",
    "\n",
    "#her gidişte artan\n",
    "ziyaret = np.zeros((10),dtype='int')"
   ]
  },
  {
   "cell_type": "code",
   "execution_count": 782,
   "metadata": {
    "collapsed": true
   },
   "outputs": [],
   "source": [
    "#current cell: hücrem\n",
    "hücrem = 0"
   ]
  },
  {
   "cell_type": "code",
   "execution_count": 783,
   "metadata": {
    "collapsed": false
   },
   "outputs": [],
   "source": [
    "import turtle\n",
    "from turtle import *\n",
    "vn = turtle.Screen()\n",
    "robo = turtle.Turtle()\n",
    "engel = turtle.Turtle()\n",
    "koor = (3*boy) + 1\n",
    "#sıfır,sıfır sol üst köşede\n",
    "mode('world')\n",
    "setworldcoordinates(0,koor,koor,0)\n",
    "\n",
    "reset()"
   ]
  },
  {
   "cell_type": "code",
   "execution_count": 784,
   "metadata": {
    "collapsed": true
   },
   "outputs": [],
   "source": [
    "#directions \n",
    "#0 - east \n",
    "#90 - south\n",
    "#180 - west\n",
    "#270 - north\n",
    "\n",
    "def dön(yön):\n",
    "    turtle.setheading(yön)\n",
    "    robo.setheading(yön)\n",
    "    return"
   ]
  },
  {
   "cell_type": "code",
   "execution_count": 785,
   "metadata": {
    "collapsed": true
   },
   "outputs": [],
   "source": [
    "#Alanı çiz\n",
    "robo.reset()\n",
    "def çiz(x,y):\n",
    "    \n",
    "    robo.penup()\n",
    "    robo.setpos(x,y)\n",
    "    robo.pendown()\n",
    "    robo.forward(boy)\n",
    "\n",
    "    return\n",
    "\n",
    "çiz(0,0)\n",
    "çiz(0,10)\n",
    "çiz(0,20)\n",
    "çiz(0,30)\n",
    "\n",
    "dön(270)\n",
    "\n",
    "çiz(30,30)\n",
    "çiz(20,30)\n",
    "çiz(10,30)\n",
    "çiz(0,30)\n"
   ]
  },
  {
   "cell_type": "code",
   "execution_count": 786,
   "metadata": {
    "collapsed": false
   },
   "outputs": [],
   "source": [
    "# değişken haline getirilecek\n",
    "#cell numpad kurallarıyla\n",
    "def cell(number):\n",
    "    return {\n",
    "        1: (5,25),\n",
    "        2: (15,25),\n",
    "        3: (25,25),\n",
    "        4: (5,15),\n",
    "        5: (15,15),\n",
    "        6: (25,15),\n",
    "        7: (5,5),\n",
    "        8: (15,5),\n",
    "        9: (25,5)\n",
    "    } [number]\n",
    "\n",
    "\n",
    "#beta\n",
    "def sıfırdurumlukomşuseç(komşulistesi):\n",
    "    for yer in komşulistesi:\n",
    "        if durum[yer]==0:\n",
    "            return yer\n",
    "        \n",
    "\n",
    "\n",
    "#durduğu hücreye göre yönünü gideceği hücreye çeviriyor    \n",
    "def yönbul(hücre):\n",
    "    return {\n",
    "        1: [ 0,270],\n",
    "        2: [180,0,270],\n",
    "        3: [180,270],\n",
    "        4: [90,0,270],\n",
    "        5: [90,180,0,270],\n",
    "        6: [90,180,270],\n",
    "        7: [90,0],\n",
    "        8: [90,180,0],\n",
    "        9: [90,180]\n",
    "    } [hücre]\n",
    "\n",
    "\n",
    "def komşubul(current):\n",
    "    return {\n",
    "        1: [2,4],\n",
    "        2: [1,3,5],\n",
    "        3: [2,6],\n",
    "        4: [1,5,7],\n",
    "        5: [2,4,6,8],\n",
    "        6: [3,5,9],\n",
    "        7: [4,8],\n",
    "        8: [5,7,9],\n",
    "        9: [6,8]\n",
    "    } [current]\n",
    "    \n",
    "    return\n",
    "\n",
    "def doğruyönedön(sayı):\n",
    "    ind = komşubul(hücrem)\n",
    "    for index, item in enumerate(ind):\n",
    "        if item==sayı:\n",
    "    #inde = ind.index(sayı)\n",
    "            dön(yönbul(hücrem)[index])\n",
    "    return"
   ]
  },
  {
   "cell_type": "code",
   "execution_count": 788,
   "metadata": {
    "collapsed": false
   },
   "outputs": [],
   "source": [
    "#beta\n",
    "#durumları sıfır olanlara ziyaret\n",
    "def uzaklaraGit():\n",
    "    for sıfır in durum:\n",
    "        if sıfır==0:\n",
    "            return sıfır\n",
    "    bitti = True    \n",
    "    return"
   ]
  },
  {
   "cell_type": "code",
   "execution_count": 789,
   "metadata": {
    "collapsed": false
   },
   "outputs": [],
   "source": [
    "def engelkoy(sayı):\n",
    "    global durum,puan,engelli\n",
    "    if sayı==1:\n",
    "        return\n",
    "    engelli +=1\n",
    "    engel.setpos(cell(sayı))\n",
    "    durum[sayı]= 2\n",
    "    puan[sayı] = -1000  \n",
    "    engel.stamp()"
   ]
  },
  {
   "cell_type": "code",
   "execution_count": 790,
   "metadata": {
    "collapsed": false
   },
   "outputs": [],
   "source": [
    "#engel oluşturuyor\n",
    "engel.penup()\n",
    "\n",
    "engel.color(\"yellow\")\n",
    "engel.shape(\"circle\")\n",
    "engel.shapesize(3,3)\n",
    "\n"
   ]
  },
  {
   "cell_type": "code",
   "execution_count": 791,
   "metadata": {
    "collapsed": false
   },
   "outputs": [],
   "source": [
    "#engel konuyor\n",
    "engelkoy(2)\n",
    "engelkoy(1) # 1 numaraya istese de engel koyamaz"
   ]
  },
  {
   "cell_type": "code",
   "execution_count": 792,
   "metadata": {
    "collapsed": false
   },
   "outputs": [],
   "source": [
    "turtle.reset()\n",
    "turtle.penup()\n",
    "\n",
    "turtle.color(\"pink\")\n",
    "turtle.shape(\"turtle\")\n",
    "\n",
    "turtle.shapesize(3,2)\n",
    "turtle.setpos(5,5)\n",
    "\n"
   ]
  },
  {
   "cell_type": "code",
   "execution_count": 793,
   "metadata": {
    "collapsed": true
   },
   "outputs": [],
   "source": [
    "def Git(sayı):\n",
    "    global hücrem,durum,puan,ziyaret\n",
    "\n",
    "    doğruyönedön(sayı)\n",
    "    turtle.setpos(cell(sayı))\n",
    "    \n",
    "    #Güncelleme\n",
    "    hücrem = sayı\n",
    "    ziyaret[sayı] += 1\n",
    "    durum[sayı]=1\n",
    "    puan[sayı]-=0.5\n",
    "        "
   ]
  },
  {
   "cell_type": "code",
   "execution_count": 794,
   "metadata": {
    "collapsed": false
   },
   "outputs": [],
   "source": [
    "def puanaGöreKomşuSeç():\n",
    "    global puanlistesi\n",
    "    global komşulistesi\n",
    "    puanlistesi = []\n",
    "    komşulistesi = komşubul(hücrem)\n",
    "    for yer in komşulistesi:\n",
    "        puanlistesi.append(puan[yer])\n",
    "    d = dict(zip(komşulistesi,puanlistesi))\n",
    "    return sorted(d, key=d.__getitem__, reverse=True)[0]"
   ]
  },
  {
   "cell_type": "code",
   "execution_count": 795,
   "metadata": {
    "collapsed": false
   },
   "outputs": [],
   "source": [
    "def tara2():\n",
    "    bitti = False\n",
    "    while not bitti:\n",
    "        Git(puanaGöreKomşuSeç())\n",
    "        if sum(durum) == (2*engelli) -1 + (9-engelli):\n",
    "            bitti = True\n",
    "            return"
   ]
  },
  {
   "cell_type": "code",
   "execution_count": 800,
   "metadata": {
    "collapsed": false
   },
   "outputs": [],
   "source": [
    "#başlangıç\n",
    "#1 numaralı cell engelli olamaz\n",
    "dön(270)\n",
    "hücrem = 1\n",
    "turtle.setpos(cell(1))\n",
    "durum[1]=1\n",
    "puan[1]-=0.5\n",
    "ziyaret[1]+=1\n",
    "turtle.speed(1)\n"
   ]
  },
  {
   "cell_type": "code",
   "execution_count": 801,
   "metadata": {
    "collapsed": false
   },
   "outputs": [],
   "source": [
    "#main\n",
    "turtle.pendown()\n",
    "tara2()\n"
   ]
  },
  {
   "cell_type": "markdown",
   "metadata": {},
   "source": [
    "# Alanı genişlet"
   ]
  }
 ],
 "metadata": {
  "kernelspec": {
   "display_name": "Python 3",
   "language": "python",
   "name": "python3"
  },
  "language_info": {
   "codemirror_mode": {
    "name": "ipython",
    "version": 3
   },
   "file_extension": ".py",
   "mimetype": "text/x-python",
   "name": "python",
   "nbconvert_exporter": "python",
   "pygments_lexer": "ipython3",
   "version": "3.6.0"
  }
 },
 "nbformat": 4,
 "nbformat_minor": 2
}
